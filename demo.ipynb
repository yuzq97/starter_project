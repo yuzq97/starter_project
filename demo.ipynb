{
  "nbformat": 4,
  "nbformat_minor": 0,
  "metadata": {
    "colab": {
      "name": "Demo",
      "provenance": [],
      "collapsed_sections": []
    },
    "kernelspec": {
      "name": "python3",
      "display_name": "Python 3"
    },
    "accelerator": "GPU"
  },
  "cells": [
    {
      "cell_type": "markdown",
      "metadata": {
        "id": "qJDJLE3v0HNr"
      },
      "source": [
        "# Fetch Codebase and Models"
      ]
    },
    {
      "cell_type": "code",
      "metadata": {
        "id": "JqiWKjpFa0ov"
      },
      "source": [
        "import os\n",
        "os.chdir('/content')\n",
        "CODE_DIR = 'starter_project'\n",
        "!git clone https://github.com/yuzq97/starter_project.git $CODE_DIR\n",
        "os.chdir(f'./{CODE_DIR}')\n",
        "!wget https://www.dropbox.com/s/nmo2g3u0qt7x70m/stylegan_celebahq.pth?dl=1 -O models/pretrain/stylegan_celebahq.pth --quiet\n",
        "!wget https://www.dropbox.com/s/qyv37eaobnow7fu/stylegan_ffhq.pth?dl=1 -O models/pretrain/stylegan_ffhq.pth --quiet"
      ],
      "execution_count": null,
      "outputs": []
    },
    {
      "cell_type": "markdown",
      "metadata": {
        "id": "hQ_IXBZr8YcJ"
      },
      "source": [
        "# Define Utility Functions"
      ]
    },
    {
      "cell_type": "code",
      "metadata": {
        "id": "ijKTlG5GeTd3"
      },
      "source": [
        "import os.path\n",
        "import io\n",
        "import IPython.display\n",
        "import numpy as np\n",
        "import cv2\n",
        "import PIL.Image\n",
        "\n",
        "import torch\n",
        "\n",
        "from models.model_settings import MODEL_POOL\n",
        "from models.stylegan_generator import StyleGANGenerator\n",
        "from utils.manipulator import linear_interpolate\n",
        "\n",
        "\n",
        "def build_generator(model_name):\n",
        "  \"\"\"Builds the generator by model name.\"\"\"\n",
        "  generator = StyleGANGenerator(model_name)\n",
        "  return generator\n",
        "\n",
        "\n",
        "def sample_codes(generator, num, latent_space_type, seed=0):\n",
        "  \"\"\"Samples latent codes randomly.\"\"\"\n",
        "  np.random.seed(seed)\n",
        "  codes = generator.easy_sample(num)\n",
        "  if generator.gan_type == 'stylegan' and latent_space_type == 'W':\n",
        "    codes = torch.from_numpy(codes).type(torch.FloatTensor).to(generator.run_device)\n",
        "    codes = generator.get_value(generator.model.mapping(codes))\n",
        "  return codes\n",
        "\n",
        "\n",
        "def imshow(images, col, viz_size=256):\n",
        "  \"\"\"Shows images in one figure.\"\"\"\n",
        "  num, height, width, channels = images.shape\n",
        "  assert num % col == 0\n",
        "  row = num // col\n",
        "\n",
        "  fused_image = np.zeros((viz_size * row, viz_size * col, channels), dtype=np.uint8)\n",
        "\n",
        "  for idx, image in enumerate(images):\n",
        "    i, j = divmod(idx, col)\n",
        "    y = i * viz_size\n",
        "    x = j * viz_size\n",
        "    if height != viz_size or width != viz_size:\n",
        "      image = cv2.resize(image, (viz_size, viz_size))\n",
        "    fused_image[y:y + viz_size, x:x + viz_size] = image\n",
        "\n",
        "  fused_image = np.asarray(fused_image, dtype=np.uint8)\n",
        "  data = io.BytesIO()\n",
        "  PIL.Image.fromarray(fused_image).save(data, 'jpeg')\n",
        "  im_data = data.getvalue()\n",
        "  disp = IPython.display.display(IPython.display.Image(im_data))\n",
        "  return disp"
      ],
      "execution_count": null,
      "outputs": []
    },
    {
      "cell_type": "markdown",
      "metadata": {
        "id": "Q7gkmrVW8eR1"
      },
      "source": [
        "# Select a Model"
      ]
    },
    {
      "cell_type": "code",
      "metadata": {
        "id": "NoWI4fPQ6Gnf"
      },
      "source": [
        "#@title { display-mode: \"form\", run: \"auto\" }\n",
        "model_name = \"stylegan_ffhq\" #@param ['stylegan_celebahq', 'stylegan_ffhq']\n",
        "latent_space_type = \"Z\" #@param ['Z', 'W']\n",
        "\n",
        "generator = build_generator(model_name)\n",
        "\n",
        "ATTRS = ['age', 'eyeglasses', 'gender', 'pose', 'smile']\n",
        "boundaries = {}\n",
        "for i, attr_name in enumerate(ATTRS):\n",
        "  boundary_name = f'{model_name}_{attr_name}'\n",
        "  if latent_space_type == 'W':\n",
        "    boundaries[attr_name] = np.load(f'boundaries/{boundary_name}_w_boundary.npy')\n",
        "  else:\n",
        "    boundaries[attr_name] = np.load(f'boundaries/{boundary_name}_boundary.npy')\n",
        "\n",
        "C_ATTRS = ['age_c_eyeglasses','age_c_gender','eyeglasses_c_age','eyeglasses_c_gender',\\\n",
        "           'gender_c_age','gender_c_eyeglasses','pose_c_age','pose_c_smile','pose_c_eyeglasses','smile_c_age','smile_c_gender','smile_c_eyeglasses']\n",
        "conditional_boundaries = {}\n",
        "for attr_name in C_ATTRS:\n",
        "  boundary_name = f'{model_name}_{attr_name}'\n",
        "  conditional_boundaries[attr_name] = np.load(f'boundaries/{boundary_name}_boundary.npy')\n",
        "  "
      ],
      "execution_count": null,
      "outputs": []
    },
    {
      "cell_type": "markdown",
      "metadata": {
        "id": "zDStH1O5t1KC"
      },
      "source": [
        "# Sample latent codes"
      ]
    },
    {
      "cell_type": "code",
      "metadata": {
        "id": "qlRGKZbJt9hA"
      },
      "source": [
        "#@title { display-mode: \"form\", run: \"auto\" }\n",
        "\n",
        "num_samples = 1 #@param {type:\"slider\", min:1, max:4, step:1}\n",
        "num_steps = 8 #@param {type:\"slider\", min:3, max:10, step:1}\n",
        "noise_seed = 0 #@param {type:\"slider\", min:0, max:1000, step:1}\n",
        "\n",
        "latent_codes = sample_codes(generator, num_samples, latent_space_type, noise_seed)\n",
        "if latent_space_type == 'W':\n",
        "  synthesis_kwargs = {'latent_space_type': 'W'}\n",
        "else:\n",
        "  synthesis_kwargs = {}\n",
        "\n",
        "images = generator.easy_synthesize(latent_codes, **synthesis_kwargs)['image']\n",
        "imshow(images, col=num_samples)"
      ],
      "execution_count": null,
      "outputs": []
    },
    {
      "cell_type": "markdown",
      "metadata": {
        "id": "MmRPN3xz8jCH"
      },
      "source": [
        "# Edit unconditioned facial attributes"
      ]
    },
    {
      "cell_type": "code",
      "metadata": {
        "id": "ccONBF60mVir"
      },
      "source": [
        "#@title { display-mode: \"form\", run: \"auto\" }\n",
        "attribute = \"age\" #@param ['age', 'eyeglasses', 'gender', 'pose', 'smile']\n",
        "boundary = boundaries[attribute]\n",
        "\n",
        "total_num = latent_codes.shape[0]\n",
        "for sample_id in range(total_num):\n",
        "  interpolations = linear_interpolate(latent_codes[sample_id:sample_id + 1],\n",
        "                                      boundary,\n",
        "                                      start_distance=-3.0,\n",
        "                                      end_distance=3.0,\n",
        "                                      steps=num_steps)\n",
        "  images = []\n",
        "  for interpolations_batch in generator.get_batch_inputs(interpolations):\n",
        "    outputs = generator.easy_synthesize(interpolations_batch, **synthesis_kwargs)\n",
        "    image = outputs['image']\n",
        "    images.append(image)\n",
        "  \n",
        "  images = np.concatenate(images)\n",
        "  imshow(images,col=num_steps)"
      ],
      "execution_count": null,
      "outputs": []
    },
    {
      "cell_type": "markdown",
      "metadata": {
        "id": "qOlRii2CXDz_"
      },
      "source": [
        "# Edit conditional facial attributes (only for latent space type Z)"
      ]
    },
    {
      "cell_type": "code",
      "metadata": {
        "id": "bfFFG4ttXRkd"
      },
      "source": [
        "#@title { display-mode: \"form\", run: \"auto\" }\n",
        "conditional_attribute = \"age_c_eyeglasses\" #@param ['age_c_eyeglasses','age_c_gender','eyeglasses_c_age','eyeglasses_c_gender','gender_c_age','gender_c_eyeglasses','pose_c_age','pose_c_smile','pose_c_eyeglasses','smile_c_age','smile_c_gender','smile_c_eyeglasses']\n",
        "\n",
        "if latent_space_type == \"W\":\n",
        "  raise AttributeError('Conditional manipulation does not work in W space')\n",
        "else:\n",
        "  boundary = conditional_boundaries[conditional_attribute]\n",
        "  total_num = latent_codes.shape[0]\n",
        "  for sample_id in range(total_num):\n",
        "    interpolations = linear_interpolate(latent_codes[sample_id:sample_id + 1],\n",
        "                                        boundary,\n",
        "                                        start_distance=-3.0,\n",
        "                                        end_distance=3.0,\n",
        "                                        steps=num_steps)\n",
        "    images = []\n",
        "    for interpolations_batch in generator.get_batch_inputs(interpolations):\n",
        "      outputs = generator.easy_synthesize(interpolations_batch, **synthesis_kwargs)\n",
        "      image = outputs['image']\n",
        "      images.append(image)\n",
        "    \n",
        "    images = np.concatenate(images)\n",
        "    imshow(images,col=num_steps)"
      ],
      "execution_count": null,
      "outputs": []
    }
  ]
}